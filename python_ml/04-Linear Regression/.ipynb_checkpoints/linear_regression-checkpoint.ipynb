{
 "cells": [
  {
   "cell_type": "code",
   "execution_count": 1,
   "metadata": {},
   "outputs": [],
   "source": [
    "import numpy as np\n",
    "import pandas as pd\n",
    "import matplotlib.pyplot as plt\n"
   ]
  },
  {
   "cell_type": "code",
   "execution_count": 187,
   "metadata": {},
   "outputs": [],
   "source": [
    "#读取数据\n",
    "data = np.genfromtxt('../01-numpy/ex1data1.txt',delimiter=',',dtype='float')\n",
    "data[0:10]\n",
    "\n",
    "X = data[:,0:-1]  # X 为前n-1列  数据\n",
    "y = data[:,-1]\n",
    "\n",
    "\n",
    "m = len(y)   # 样本数量\n",
    "y = y.reshape(m,1)"
   ]
  },
  {
   "cell_type": "code",
   "execution_count": 13,
   "metadata": {},
   "outputs": [],
   "source": [
    "# 特征归一化\n",
    "def featureNormaliza(X):\n",
    "    X_norm = np.array(X)\n",
    "    mu = np.zeros((1,X.shape[1]))\n",
    "    sigma = np.zeros((1,X.shape[1]))\n",
    "    \n",
    "    mu = np.mean(X_norm,0)   # 求每一列的平均值\n",
    "    sigma = np.std(X_norm,0)  #每一列的标准差\n",
    "    \n",
    "    for i in range(X.shape[1]):\n",
    "        X_norm[:,i] = (X_norm[:,i] - mu[i])/sigma[i]\n",
    "    return X_norm,mu,sigma\n",
    "\n"
   ]
  },
  {
   "cell_type": "code",
   "execution_count": 14,
   "metadata": {},
   "outputs": [],
   "source": [
    "def plot_X1_X2(X):\n",
    "    plt.scatter(X[:,0],X[:,1])\n",
    "    plt.show()"
   ]
  },
  {
   "cell_type": "code",
   "execution_count": 51,
   "metadata": {},
   "outputs": [],
   "source": [
    "def computerCost(X,y,theta):\n",
    "    m = len(y)\n",
    "    J = 0\n",
    "    J = (np.transpose(X*theta-y))*(X*theta-y)/(2*m)\n",
    "    return J"
   ]
  },
  {
   "cell_type": "code",
   "execution_count": 192,
   "metadata": {},
   "outputs": [],
   "source": [
    "def gradientDescent(X,y,theta,alpha,num_iters):\n",
    "    m = len(y)\n",
    "    n = len(theta)\n",
    "    \n",
    "    temp = np.matrix(np.zeros((n,num_iters)))\n",
    "    J_history = np.zeros((num_iters,1))\n",
    "    \n",
    "    for i in range(num_iters):\n",
    "        h = np.dot(X,theta)  # 內积\n",
    "        diff = h - y  # 误差\n",
    "        temp[:,i] = theta - ((alpha/m)*(np.dot(X.T,h-y)))\n",
    "#         temp[:,i] = theta - (alpha/m) * X.T.dot(diff)  # 计算梯度\n",
    "        theta = temp[:,i]\n",
    "        J_history[i] = computerCost(X,y,theta)\n",
    "        \n",
    "        print('num_iters.....'+str(i))\n",
    "        return theta,J_history\n",
    "    "
   ]
  },
  {
   "cell_type": "code",
   "execution_count": 193,
   "metadata": {},
   "outputs": [],
   "source": [
    "def plotJ(J_history,num_iters):\n",
    "    x = np.arange(1,num_iters+1)\n",
    "    plt.plot(x,J_history)\n",
    "    plt.xlabel('num_iters')\n",
    "    plt.ylabel('J')\n",
    "    plt.show()"
   ]
  },
  {
   "cell_type": "code",
   "execution_count": 194,
   "metadata": {},
   "outputs": [],
   "source": [
    "def linearRegression(X,y,alpha=0.01,num_iters=400):\n",
    "    X,mu,sigma = featureNormaliza(X)\n",
    "    plot_X1_X2(X)\n",
    "    \n",
    "    X=np.hstack((np.ones((m,1)),X))  # 增加1列\n",
    "    print('执行梯度下降....')\n",
    "    theta = np.zeros((X.shape[1],1))\n",
    "    \n",
    "    theta,J_history = gradientDescent(X,y,theta,alpha,num_iters)\n",
    "    plotJ(J_history,num_iters)\n",
    "    \n",
    "    return mu,sigma,theta"
   ]
  },
  {
   "cell_type": "code",
   "execution_count": 195,
   "metadata": {},
   "outputs": [
    {
     "data": {
      "image/png": "[encoded data removed]",
      "text/plain": [
       "<Figure size 432x288 with 1 Axes>"
      ]
     },
     "metadata": {
      "needs_background": "light"
     },
     "output_type": "display_data"
    },
    {
     "name": "stdout",
     "output_type": "stream",
     "text": [
      "执行梯度下降....\n",
      "(47, 1)\n",
      "(47, 1)\n",
      "(47, 1)\n",
      "(3, 47)\n",
      "(47, 1)\n",
      "(3, 1)\n",
      "(3, 1)\n",
      "num_iters.....0\n"
     ]
    },
    {
     "data": {
      "image/png": "[encoded data removed]",
      "text/plain": [
       "<Figure size 432x288 with 1 Axes>"
      ]
     },
     "metadata": {
      "needs_background": "light"
     },
     "output_type": "display_data"
    },
    {
     "data": {
      "text/plain": [
       "(array([2000.68085106,    3.17021277]),\n",
       " array([7.86202619e+02, 7.52842809e-01]),\n",
       " matrix([[3404.12659574],\n",
       "         [1057.64133493],\n",
       "         [ 547.08821756]]))"
      ]
     },
     "execution_count": 195,
     "metadata": {},
     "output_type": "execute_result"
    }
   ],
   "source": [
    "linearRegression(X,y)\n",
    "\n"
   ]
  },
  {
   "cell_type": "code",
   "execution_count": null,
   "metadata": {},
   "outputs": [],
   "source": []
  },
  {
   "cell_type": "code",
   "execution_count": null,
   "metadata": {},
   "outputs": [],
   "source": []
  }
 ],
 "metadata": {
  "kernelspec": {
   "display_name": "Python 3",
   "language": "python",
   "name": "python3"
  },
  "language_info": {
   "codemirror_mode": {
    "name": "ipython",
    "version": 3
   },
   "file_extension": ".py",
   "mimetype": "text/x-python",
   "name": "python",
   "nbconvert_exporter": "python",
   "pygments_lexer": "ipython3",
   "version": "3.7.0"
  }
 },
 "nbformat": 4,
 "nbformat_minor": 2
}

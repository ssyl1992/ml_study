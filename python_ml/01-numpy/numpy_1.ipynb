{
 "cells": [
  {
   "cell_type": "code",
   "execution_count": 1,
   "metadata": {},
   "outputs": [],
   "source": [
    "import numpy"
   ]
  },
  {
   "cell_type": "code",
   "execution_count": 2,
   "metadata": {},
   "outputs": [],
   "source": [
    "house_price = numpy.genfromtxt(\"ex1data1.txt\",delimiter=',',dtype=str)"
   ]
  },
  {
   "cell_type": "code",
   "execution_count": 3,
   "metadata": {},
   "outputs": [
    {
     "name": "stdout",
     "output_type": "stream",
     "text": [
      "[['2104' '3' '399900']\n",
      " ['1600' '3' '329900']\n",
      " ['2400' '3' '369000']\n",
      " ['1416' '2' '232000']\n",
      " ['3000' '4' '539900']\n",
      " ['1985' '4' '299900']\n",
      " ['1534' '3' '314900']\n",
      " ['1427' '3' '198999']\n",
      " ['1380' '3' '212000']\n",
      " ['1494' '3' '242500']\n",
      " ['1940' '4' '239999']\n",
      " ['2000' '3' '347000']\n",
      " ['1890' '3' '329999']\n",
      " ['4478' '5' '699900']\n",
      " ['1268' '3' '259900']\n",
      " ['2300' '4' '449900']\n",
      " ['1320' '2' '299900']\n",
      " ['1236' '3' '199900']\n",
      " ['2609' '4' '499998']\n",
      " ['3031' '4' '599000']\n",
      " ['1767' '3' '252900']\n",
      " ['1888' '2' '255000']\n",
      " ['1604' '3' '242900']\n",
      " ['1962' '4' '259900']\n",
      " ['3890' '3' '573900']\n",
      " ['1100' '3' '249900']\n",
      " ['1458' '3' '464500']\n",
      " ['2526' '3' '469000']\n",
      " ['2200' '3' '475000']\n",
      " ['2637' '3' '299900']\n",
      " ['1839' '2' '349900']\n",
      " ['1000' '1' '169900']\n",
      " ['2040' '4' '314900']\n",
      " ['3137' '3' '579900']\n",
      " ['1811' '4' '285900']\n",
      " ['1437' '3' '249900']\n",
      " ['1239' '3' '229900']\n",
      " ['2132' '4' '345000']\n",
      " ['4215' '4' '549000']\n",
      " ['2162' '4' '287000']\n",
      " ['1664' '2' '368500']\n",
      " ['2238' '3' '329900']\n",
      " ['2567' '4' '314000']\n",
      " ['1200' '3' '299000']\n",
      " ['852' '2' '179900']\n",
      " ['1852' '4' '299900']\n",
      " ['1203' '3' '239500']]\n"
     ]
    }
   ],
   "source": [
    "print(house_price)"
   ]
  },
  {
   "cell_type": "code",
   "execution_count": 4,
   "metadata": {},
   "outputs": [
    {
     "name": "stdout",
     "output_type": "stream",
     "text": [
      "[ 5 10 15 20]\n",
      "[[ 5 10 15]\n",
      " [20 25 30]\n",
      " [35 40 45]\n",
      " [50 55 60]]\n"
     ]
    }
   ],
   "source": [
    "#1维向量的构造\n",
    "vector = numpy.array([5,10,15,20])\n",
    "#2维向量的构造\n",
    "matrix = numpy.array([[5,10,15],[20,25,30],[35,40,45],[50,55,60]])\n",
    "print(vector)\n",
    "print(matrix)"
   ]
  },
  {
   "cell_type": "code",
   "execution_count": 5,
   "metadata": {},
   "outputs": [
    {
     "name": "stdout",
     "output_type": "stream",
     "text": [
      "(4,)\n",
      "(4, 3)\n"
     ]
    }
   ],
   "source": [
    "# shape 函数打印出向量的行，列\n",
    "vector = numpy.array([1,2,3,4])\n",
    "print(vector.shape)\n",
    "print(matrix.shape)"
   ]
  },
  {
   "cell_type": "code",
   "execution_count": 6,
   "metadata": {},
   "outputs": [
    {
     "name": "stdout",
     "output_type": "stream",
     "text": [
      "['1' '2' '3' '4' '5']\n"
     ]
    },
    {
     "data": {
      "text/plain": [
       "dtype('<U21')"
      ]
     },
     "execution_count": 6,
     "metadata": {},
     "output_type": "execute_result"
    }
   ],
   "source": [
    "import numpy\n",
    "\n",
    "#numpy.array 里面的元素必须是相同的结构\n",
    "# numbers = numpy.array([1,2,3,4.0,5])\n",
    "numbers = numpy.array([1,2,3,'4',5])\n",
    "print(numbers)\n",
    "numbers.dtype\n"
   ]
  },
  {
   "cell_type": "code",
   "execution_count": 8,
   "metadata": {},
   "outputs": [
    {
     "name": "stdout",
     "output_type": "stream",
     "text": [
      "329900\n"
     ]
    }
   ],
   "source": [
    "print(house_price[1,2])"
   ]
  },
  {
   "cell_type": "code",
   "execution_count": 10,
   "metadata": {},
   "outputs": [
    {
     "name": "stdout",
     "output_type": "stream",
     "text": [
      "[1 2 3]\n"
     ]
    }
   ],
   "source": [
    "vector = numpy.array([1,2,3,4,5])\n",
    "\n",
    "\n",
    "#取数组的第0-3元素 左闭右开\n",
    "print(vector[0:3])"
   ]
  },
  {
   "cell_type": "code",
   "execution_count": 13,
   "metadata": {},
   "outputs": [
    {
     "name": "stdout",
     "output_type": "stream",
     "text": [
      "[10 25 40 55]\n",
      "[[ 5 10]\n",
      " [20 25]\n",
      " [35 40]\n",
      " [50 55]]\n",
      "[[20 25]\n",
      " [35 40]]\n"
     ]
    }
   ],
   "source": [
    "#冒号表示所有的，第一个参数表示所有的行，第二个参数表示第1列\n",
    "print(matrix[:,1])\n",
    "#冒号表示所有的，第一个参数表示所有的行，第二个参数表示第0-2列\n",
    "print(matrix[:,0:2])\n",
    "\n",
    "print(matrix[1:3,0:2])"
   ]
  }
 ],
 "metadata": {
  "kernelspec": {
   "display_name": "Python 3",
   "language": "python",
   "name": "python3"
  },
  "language_info": {
   "codemirror_mode": {
    "name": "ipython",
    "version": 3
   },
   "file_extension": ".py",
   "mimetype": "text/x-python",
   "name": "python",
   "nbconvert_exporter": "python",
   "pygments_lexer": "ipython3",
   "version": "3.7.0"
  }
 },
 "nbformat": 4,
 "nbformat_minor": 2
}

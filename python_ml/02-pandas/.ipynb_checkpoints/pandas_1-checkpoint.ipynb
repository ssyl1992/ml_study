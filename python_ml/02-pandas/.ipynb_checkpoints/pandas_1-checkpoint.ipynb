{
 "cells": [
  {
   "cell_type": "code",
   "execution_count": 1,
   "metadata": {},
   "outputs": [],
   "source": [
    "import pandas as pd"
   ]
  },
  {
   "cell_type": "code",
   "execution_count": 9,
   "metadata": {},
   "outputs": [
    {
     "name": "stdout",
     "output_type": "stream",
     "text": [
      "<class 'pandas.core.frame.DataFrame'>\n",
      "area     int64\n",
      "rooms    int64\n",
      "price    int64\n",
      "dtype: object\n"
     ]
    }
   ],
   "source": [
    "#读取文件,得到为DataFrame格式的数据\n",
    "house_price = pd.read_csv(\"ex1data2.csv\")\n",
    "print(type(house_price))\n",
    "print(house_price.dtypes)\n",
    "# print(help(pd.read_csv))"
   ]
  },
  {
   "cell_type": "code",
   "execution_count": 17,
   "metadata": {},
   "outputs": [
    {
     "data": {
      "text/plain": [
       "(47, 3)"
      ]
     },
     "execution_count": 17,
     "metadata": {},
     "output_type": "execute_result"
    }
   ],
   "source": [
    "# head函数，可以显示出来表格 head(3)显示前3行数据\n",
    "# house_price.head(3)\n",
    "\n",
    "#tail函数，后几行数据\n",
    "# house_price.tail(4)\n",
    "\n",
    "#显示每一列的名称\n",
    "# house_price.columns\n",
    "\n",
    "# 矩阵维度 47*3\n",
    "house_price.shape\n"
   ]
  },
  {
   "cell_type": "code",
   "execution_count": 18,
   "metadata": {},
   "outputs": [
    {
     "data": {
      "text/plain": [
       "area       2104\n",
       "rooms         3\n",
       "price    399900\n",
       "Name: 0, dtype: int64"
      ]
     },
     "execution_count": 18,
     "metadata": {},
     "output_type": "execute_result"
    }
   ],
   "source": [
    "#loc 取第几条数据\n",
    "house_price.loc[0]\n",
    "\n",
    "food = pd.read_table('en.openfoodfacts.org.products.tsv')"
   ]
  }
 ],
 "metadata": {
  "kernelspec": {
   "display_name": "Python 3",
   "language": "python",
   "name": "python3"
  },
  "language_info": {
   "codemirror_mode": {
    "name": "ipython",
    "version": 3
   },
   "file_extension": ".py",
   "mimetype": "text/x-python",
   "name": "python",
   "nbconvert_exporter": "python",
   "pygments_lexer": "ipython3",
   "version": "3.7.0"
  }
 },
 "nbformat": 4,
 "nbformat_minor": 2
}
